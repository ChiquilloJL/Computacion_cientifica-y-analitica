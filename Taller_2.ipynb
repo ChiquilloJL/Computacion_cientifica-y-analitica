{
  "cells": [
    {
      "cell_type": "markdown",
      "metadata": {
        "id": "view-in-github",
        "colab_type": "text"
      },
      "source": [
        "<a href=\"https://colab.research.google.com/github/SylvanasBV/Computacion_cientifica-y-analitica/blob/main/Taller_2.ipynb\" target=\"_parent\"><img src=\"https://colab.research.google.com/assets/colab-badge.svg\" alt=\"Open In Colab\"/></a>"
      ]
    },
    {
      "cell_type": "markdown",
      "metadata": {
        "id": "EaYec8dg8GE3"
      },
      "source": [
        "Taller 2 - ANDRES FELIPE BARBOSA SALAMANCA\n",
        "\n",
        "\n"
      ]
    },
    {
      "cell_type": "markdown",
      "metadata": {
        "id": "NwlK8xbqc2N1"
      },
      "source": [
        "or the operation of this activity, please instantiate the one files locally in the colab by clicking on **upload to session storage** in the left section called **Files** of which 1 were selected, which are:  [loans.csv](https://github.com/datascience-unbosque/loan-behaviour-dataviz), give to the teacher by this activity.\n",
        "\n",
        "\n"
      ]
    },
    {
      "cell_type": "code",
      "execution_count": null,
      "metadata": {
        "id": "O9BYkTj_CjRR"
      },
      "outputs": [],
      "source": [
        "!pip install -q xlrd"
      ]
    },
    {
      "cell_type": "markdown",
      "metadata": {
        "id": "W5QdntIttFDH"
      },
      "source": [
        "**bookstores**"
      ]
    },
    {
      "cell_type": "code",
      "execution_count": null,
      "metadata": {
        "id": "1E0q9IPUkbNz"
      },
      "outputs": [],
      "source": [
        "# I import the necessary libraries\n",
        "import pandas as pd\n",
        "from pandas_profiling import ProfileReport\n",
        "import numpy as np\n",
        "import altair as alt\n",
        "alt.renderers.enable('default')\n",
        "from vega_datasets import data as vega_data"
      ]
    },
    {
      "cell_type": "markdown",
      "metadata": {
        "id": "7Il92TnwkjCK"
      },
      "source": [
        "**datasets**"
      ]
    },
    {
      "cell_type": "code",
      "execution_count": null,
      "metadata": {
        "colab": {
          "base_uri": "https://localhost:8080/"
        },
        "id": "xYxd8Qr-eb2L",
        "outputId": "2b3525bd-f6cf-4c16-8b77-3bc7dffb5384"
      },
      "outputs": [
        {
          "name": "stdout",
          "output_type": "stream",
          "text": [
            "(252000, 13)\n",
            "id                      int64\n",
            "income                  int64\n",
            "age                     int64\n",
            "experience              int64\n",
            "marital_status         object\n",
            "house_ownership        object\n",
            "car_ownership          object\n",
            "profession             object\n",
            "city                   object\n",
            "state                  object\n",
            "current_job_years       int64\n",
            "current_house_years     int64\n",
            "risk_flag               int64\n",
            "dtype: object\n",
            "          id   income  age  experience marital_status house_ownership  \\\n",
            "0          1  1303834   23           3         single          rented   \n",
            "1          2  7574516   40          10         single          rented   \n",
            "2          3  3991815   66           4        married          rented   \n",
            "3          4  6256451   41           2         single          rented   \n",
            "4          5  5768871   47          11         single          rented   \n",
            "...      ...      ...  ...         ...            ...             ...   \n",
            "25588  25589  3392494   28           6         single          rented   \n",
            "25589  25590  6451557   40           7         single          rented   \n",
            "25590  25591  2570620   53          11         single          rented   \n",
            "25591  25592  6533070   43          16         single          rented   \n",
            "25592  25593  7826657   30           3         single          rented   \n",
            "\n",
            "      car_ownership           profession                 city           state  \\\n",
            "0                no  Mechanical_engineer                 Rewa  Madhya_Pradesh   \n",
            "1                no   Software_Developer             Parbhani     Maharashtra   \n",
            "2                no     Technical_writer            Alappuzha          Kerala   \n",
            "3               yes   Software_Developer          Bhubaneswar          Odisha   \n",
            "4                no        Civil_servant  Tiruchirappalli[10]      Tamil_Nadu   \n",
            "...             ...                  ...                  ...             ...   \n",
            "25588           yes            Secretary           Jamshedpur       Jharkhand   \n",
            "25589            no       Microbiologist            Erode[17]      Tamil_Nadu   \n",
            "25590            no         Web_designer                 Gaya           Bihar   \n",
            "25591           yes     Fashion_Designer               Nadiad         Gujarat   \n",
            "25592            no              Dentist            Buxar[37]           Bihar   \n",
            "\n",
            "       current_job_years  current_house_years  risk_flag  \n",
            "0                      3                   13          0  \n",
            "1                      9                   13          0  \n",
            "2                      4                   10          0  \n",
            "3                      2                   12          1  \n",
            "4                      3                   14          1  \n",
            "...                  ...                  ...        ...  \n",
            "25588                  6                   10          0  \n",
            "25589                  7                   14          0  \n",
            "25590                 10                   11          0  \n",
            "25591                  6                   13          0  \n",
            "25592                  3                   10          1  \n",
            "\n",
            "[25593 rows x 13 columns]\n"
          ]
        }
      ],
      "source": [
        "# Loading the file as a dataframe\n",
        "df_Count = pd.read_csv(\"/loans.csv\", delimiter=',')\n",
        "# Mostrar las dimenciones del dataframe\n",
        "print(df_Count.shape)\n",
        "# Delete records with NAN\n",
        "df_Count = df_Count.dropna()\n",
        "# Checking the data types of the columns\n",
        "print(df_Count.dtypes)\n",
        "# Printing the first 10 records\n",
        "print(df_Count.head(25593))\n"
      ]
    },
    {
      "cell_type": "markdown",
      "metadata": {
        "id": "t3hDD9Wgz0CO"
      },
      "source": [
        "\n",
        "\n",
        "---\n",
        "\n"
      ]
    },
    {
      "cell_type": "markdown",
      "metadata": {
        "id": "McpOxrQFkrkO"
      },
      "source": [
        "### **Assuming different questions, the following conclusions were reached with the following graphs**\n",
        "\n"
      ]
    },
    {
      "cell_type": "code",
      "execution_count": null,
      "metadata": {
        "colab": {
          "base_uri": "https://localhost:8080/"
        },
        "id": "494KznBzY4qB",
        "outputId": "ff6c5bb6-bfcb-4ef6-e8e6-8f76d129f5d8"
      },
      "outputs": [
        {
          "data": {
            "text/plain": [
              "Physician                     0.023639\n",
              "Statistician                  0.023040\n",
              "Web_designer                  0.021417\n",
              "Psychologist                  0.021389\n",
              "Computer_hardware_engineer    0.021317\n",
              "Drafter                       0.021266\n",
              "Magistrate                    0.021258\n",
              "Fashion_Designer              0.021048\n",
              "Air_traffic_controller        0.020956\n",
              "Comedian                      0.020869\n",
              "Industrial_Engineer           0.020833\n",
              "Mechanical_engineer           0.020702\n",
              "Chemical_engineer             0.020655\n",
              "Technical_writer              0.020615\n",
              "Hotel_Manager                 0.020548\n",
              "Financial_Analyst             0.020504\n",
              "Graphic_Designer              0.020500\n",
              "Flight_attendant              0.020349\n",
              "Biomedical_Engineer           0.020345\n",
              "Secretary                     0.020083\n",
              "Software_Developer            0.020052\n",
              "Petroleum_Engineer            0.020004\n",
              "Police_officer                0.019980\n",
              "Computer_operator             0.019802\n",
              "Politician                    0.019619\n",
              "Microbiologist                0.019369\n",
              "Technician                    0.019302\n",
              "Artist                        0.019290\n",
              "Lawyer                        0.019119\n",
              "Consultant                    0.019079\n",
              "Dentist                       0.018976\n",
              "Scientist                     0.018972\n",
              "Surgeon                       0.018937\n",
              "Aviator                       0.018881\n",
              "Technology_specialist         0.018798\n",
              "Design_Engineer               0.018766\n",
              "Surveyor                      0.018706\n",
              "Geologist                     0.018540\n",
              "Analyst                       0.018524\n",
              "Army_officer                  0.018496\n",
              "Architect                     0.018480\n",
              "Chef                          0.018393\n",
              "Librarian                     0.018365\n",
              "Civil_engineer                0.018317\n",
              "Designer                      0.018246\n",
              "Economist                     0.018147\n",
              "Firefighter                   0.017885\n",
              "Chartered_Accountant          0.017829\n",
              "Civil_servant                 0.017512\n",
              "Official                      0.016218\n",
              "Engineer                      0.016063\n",
              "Name: profession, dtype: float64"
            ]
          },
          "execution_count": 288,
          "metadata": {},
          "output_type": "execute_result"
        }
      ],
      "source": [
        "#Reducing the number of major genres (categois)\n",
        "df_Count['profession'].value_counts(dropna = False, normalize=True)"
      ]
    },
    {
      "cell_type": "code",
      "execution_count": null,
      "metadata": {
        "colab": {
          "base_uri": "https://localhost:8080/"
        },
        "id": "rS5EPV2xql60",
        "outputId": "b789d1d0-1225-49d8-ddab-eb49db4dfb5e"
      },
      "outputs": [
        {
          "data": {
            "text/plain": [
              "Engineer      0.197056\n",
              "Scientist     0.120615\n",
              "Designer      0.099690\n",
              "Other         0.098655\n",
              "Analyst       0.098044\n",
              "Technician    0.097595\n",
              "Official      0.090091\n",
              "Aviator       0.060187\n",
              "Lawyer        0.059996\n",
              "Artist        0.040159\n",
              "Healt         0.037913\n",
              "Name: profession, dtype: float64"
            ]
          },
          "execution_count": 289,
          "metadata": {},
          "output_type": "execute_result"
        }
      ],
      "source": [
        "#Se redujeron las caracteristicas para poder procesar los datos de la columna profesion mas facil mente\n",
        "df_Count['profession'] = df_Count['profession'].replace({\n",
        "    'Web_designer':'Designer',\n",
        "    'Fashion_Designer':'Designer',\n",
        "    'Graphic_Designer':'Designer',\n",
        "    'Architect':'Designer',\n",
        "    'Computer_hardware_engineer':'Engineer',\n",
        "    'Industrial_Engineer':'Engineer',\n",
        "    'Mechanical_engineer':'Engineer',\n",
        "    'Chemical_engineer':'Engineer',\n",
        "    'Biomedical_Engineer':'Engineer',\n",
        "    'Software_Developer':'Engineer',\n",
        "    'Petroleum_Engineer':'Engineer',\n",
        "    'Design_Engineer':'Engineer',\n",
        "    'Civil_engineer':'Engineer',\n",
        "    'Police_officer':'Official',\n",
        "    'Army_officer':'Official',\n",
        "    'Firefighter':'Official',\n",
        "    'Civil_servant':'Official',\n",
        "    'Statistician':'Analyst',\n",
        "    'Financial_Analyst':'Analyst',\n",
        "    'Economist':'Analyst',\n",
        "    'Chartered_Accountant':'Analyst',\n",
        "    'Air_traffic_controller':'Aviator',\n",
        "    'Flight_attendant':'Aviator',\n",
        "    'Comedian':'Artist',\n",
        "    'Magistrate':'Lawyer',\n",
        "    'Politician':'Lawyer',\n",
        "    'Technical_writer':'Technician',\n",
        "    'Computer_operator':'Technician',\n",
        "    'Consultant':'Technician',\n",
        "    'Technology_specialist':'Technician',\n",
        "    'Physician':'Scientist',\n",
        "    'Psychologist':'Scientist',\n",
        "    'Microbiologist':'Scientist',\n",
        "    'Surveyor':'Scientist',\n",
        "    'Geologist':'Scientist',\n",
        "    'Dentist':'Healt',\n",
        "    'Surgeon':'Healt',\n",
        "    'Drafter':'Other',\n",
        "    'Hotel_Manager':'Other',\n",
        "    'Secretary':'Other',\n",
        "    'Chef':'Other',\n",
        "    'Librarian':'Other'})\n",
        "df_Count['profession'].value_counts(dropna = False, normalize=True)"
      ]
    },
    {
      "cell_type": "code",
      "execution_count": null,
      "metadata": {
        "colab": {
          "background_save": true,
          "base_uri": "https://localhost:8080/"
        },
        "id": "iSiBIft4fmyr",
        "outputId": "633d6237-aa5a-4618-aacf-12ba85eb1397"
      },
      "outputs": [],
      "source": [
        "#Altair has a reserved data usage to display so the highest will be taken\n",
        "#and the least amount of data to see if affected by the data was divided into three\n",
        "# from lowest to highest years of work\n",
        "df_age_low = df_Count.loc[df_Count['current_job_years'] <= 4] ## ---> Years of initial work  \n",
        "df_age_med = df_Count.loc[df_Count['current_job_years'] >= 5] ## ---> Average years of work\n",
        "df_age_med = df_age_med.loc[df_age_med['current_job_years'] <= 8] ## ---> Average years of work\n",
        "df_age_High = df_Count.loc[df_Count['current_job_years'] >= 9] ## ---> years of final work  \n",
        "# Show the dimensions of the dataframe\n",
        "print(df_age_low.shape)\n",
        "# Increase altair's ability to graph large datasets\n",
        "alt.data_transformers.enable('default', max_rows=101201)\n",
        "# Correlation between the variables income and profession leaving a course of time with the experience\n",
        "slid = alt.binding_range(min = 0, max= 20 , step=1,name='experience')\n",
        "select = alt.selection_single(name=\"experience\", fields=['experience'],\n",
        "                                bind=slid, init={'experience': 0})\n",
        "\n",
        "alt.Chart(df_age_low)\\\n",
        "  .mark_bar().encode(\n",
        "      alt.X('income:Q'),\n",
        "      alt.Y('profession:N'),\n",
        "      alt.Color('risk_flag:N')\n",
        "\n",
        "  ).properties(\n",
        "      width = 500,\n",
        "      height = 500\n",
        "  ).add_selection(select).transform_filter(select)\n"
      ]
    },
    {
      "cell_type": "markdown",
      "metadata": {
        "id": "TuqpmV_0fvbW"
      },
      "source": [
        "\n",
        "As can be seen in the graph, a graph was made for each period in years of work, which begins with 1 year to 4 years studying a company where we can see that regardless of experience, who has the highest amount of salary are the professions around engineering, in addition to this it can be denoted that the profession that has the most likely risk of breach of obligations are the same engineers where the majority of people are anchored as it is one of the most used professions and finally it is it can denote that the experience supports the salary increase, where it can also be recognized that with 11 years of experience the technician profession can have an increase in salary."
      ]
    },
    {
      "cell_type": "code",
      "execution_count": null,
      "metadata": {
        "colab": {
          "background_save": true,
          "base_uri": "https://localhost:8080/",
          "height": 807
        },
        "id": "upUQ0KTe7o-a",
        "outputId": "303c4944-5db5-4518-bd83-8a1a6d434d5e"
      },
      "outputs": [],
      "source": [
        "\n",
        "# Show the dimensions of the dataframe\n",
        "print(df_age_med.shape)\n",
        "\n",
        "#Correlation between the variables income and profession leaving a passage of time with the experience\n",
        "slid = alt.binding_range(min = 5, max= 20 , step=1,name='experience')\n",
        "select = alt.selection_single(name=\"experience\", fields=['experience'],\n",
        "                                bind=slid, init={'experience': 5})\n",
        "\n",
        "alt.Chart(df_age_med)\\\n",
        "  .mark_bar().encode(\n",
        "      alt.X('income:Q'),\n",
        "      alt.Y('profession:N'),\n",
        "      alt.Color('risk_flag:N')\n",
        "\n",
        "  ).properties(\n",
        "      width = 700,\n",
        "      height = 700).add_selection(select).transform_filter(select)\n",
        "  "
      ]
    },
    {
      "cell_type": "markdown",
      "metadata": {
        "id": "8A-wQomK7cup"
      },
      "source": [
        "As we can see, by increasing the length of years studied at work, a minimum increase in salary can be denoted starting from 5 years as experience where a margin is denoted in the professions of risk of breaching the increased obligation. but while the experience increases, a greater disinterest could be seen, leaving the hypothesis that they concentrate on other projects as the time of the company elapses, in addition, it can be denoted that while the experience increases, the careers also increase their salary and growth as a profession except for professions tied to health."
      ]
    },
    {
      "cell_type": "code",
      "execution_count": null,
      "metadata": {
        "colab": {
          "background_save": true,
          "base_uri": "https://localhost:8080/",
          "height": 607
        },
        "id": "evvWr-lbgBQ7",
        "outputId": "818d80ab-0952-4dc7-a971-bb6b053996c4"
      },
      "outputs": [],
      "source": [
        "slid = alt.binding_range(min = 9, max= 20 , step=1,name='experience')\n",
        "select = alt.selection_single(name=\"experience\", fields=['experience'],\n",
        "                                bind=slid, init={'experience': 9})\n",
        "\n",
        "# Show the dimensions of the dataframe\n",
        "print(df_age_High.shape)\n",
        "#Correlation between the variables income and profession leaving a passage of time with the experience\n",
        "alt.Chart(df_age_High)\\\n",
        "  .mark_bar().encode(\n",
        "      alt.X('income:Q'),\n",
        "      alt.Y('profession:N'),\n",
        "      alt.Color('risk_flag:N')\n",
        "\n",
        "  ).properties(\n",
        "      width = 500,\n",
        "      height = 500).add_selection(select).transform_filter(select)\n",
        "  "
      ]
    },
    {
      "cell_type": "markdown",
      "metadata": {
        "id": "zhZmjsj5AFh5"
      },
      "source": [
        "To conclude, we can see that from 9 to 14 years in the company, beginning the experience at 9, an outstanding increase in the salary of each profession can be seen, allowing us to conclude that the longer the company is instigating, the greater the profession. income will obtain in addition to the need for experience allowing income to scale higher, it was also allowed to establish that the more years in the company there is a greater risk of failing to comply with banking obligations, in addition to this an external analysis of the data denotes the susceptibility of the amount of data that was ingested in each profession can be a problem for not having values ​​with an outstanding assertiveness, in addition to this the careers that generate less income are health and Artist and the most paid are engineering, technicians and scientific\n"
      ]
    },
    {
      "cell_type": "markdown",
      "metadata": {
        "id": "u3XIhUBdPPdw"
      },
      "source": [
        "# **Age was also analyzed as a possible risk of increasing non-compliance with banking obligations.**"
      ]
    },
    {
      "cell_type": "code",
      "execution_count": null,
      "metadata": {
        "colab": {
          "base_uri": "https://localhost:8080/",
          "height": 650
        },
        "id": "wLPc8T16gP8q",
        "outputId": "06174e7b-0154-4821-f3e6-23985e5b9265"
      },
      "outputs": [],
      "source": [
        "# Analyzing the lowest and highest salaries, it was found that\n",
        "print(\"Salarios\")\n",
        "print('el menor salario es:',df_Count['income'].min())\n",
        "print('el mayor salario es:',df_Count['income'].max())\n",
        "\n",
        "\n",
        "#Altair has a reserved data usage to display so the highest will be taken\n",
        "#and the least amount of data to see if the affected data was split in two\n",
        "#the lowest salaries and the highest\n",
        "\n",
        "df_age_low = df_Count.loc[df_Count['age'] <= 40] ## ---> low age  \n",
        "df_age_med = df_Count.loc[df_Count['age'] >= 40] ## ---> intermediate age\n",
        "df_age_med = df_age_med.loc[df_age_med['age'] <= 60] ## ---> intermediate age\n",
        "df_age_High = df_Count.loc[df_Count['age'] >= 60] ## ---> tall age  \n",
        "\n",
        "#Correlation between the variables income and age, leaving a passage of time with the Working time and the age range\n",
        "slider = alt.binding_range(min = 1, max= 14 , step=1,name='current_job_years')\n",
        "selector = alt.selection_single(name=\"SelectorName\", fields=['current_job_years'],\n",
        "                                bind=slider, init={'current_job_years': 1})\n",
        "\n",
        "\n",
        "alt.Chart(df_age_low)\\\n",
        "  .mark_bar().encode(\n",
        "      alt.X('age:Q'),\n",
        "      alt.Y('income:Q'),\n",
        "      alt.Color('risk_flag:N'),\n",
        "      alt.OpacityValue(0.7)\n",
        "  ).properties(\n",
        "      width = 500,\n",
        "      height = 500\n",
        "  ).add_selection(selector).transform_filter(selector)\n"
      ]
    },
    {
      "cell_type": "markdown",
      "metadata": {
        "id": "I92z2UXpQu3z"
      },
      "source": [
        "It was established by means of age to divide the dataset into three parts, the first of which is between 20 and 40 years old, where we can see that incomes do not tend to be low over the years working, therefore the age is not a variable with the given data a variable related to income, despite this it can be denoted that the less years in the company there is a greater risk of not fulfilling its financial obligations and also the greater the years in this category and more years in the company is denoting a greater disinterest in financial obligations.\n"
      ]
    },
    {
      "cell_type": "code",
      "execution_count": null,
      "metadata": {
        "colab": {
          "base_uri": "https://localhost:8080/",
          "height": 594
        },
        "id": "tpbv5TLn95uS",
        "outputId": "1197f6a8-d4f9-4ef2-8013-fffc137823e8"
      },
      "outputs": [],
      "source": [
        "#Correlation between the variables income and age, leaving a passage of time with the Working time and the age range\n",
        "alt.Chart(df_age_med)\\\n",
        "  .mark_bar().encode(\n",
        "      alt.X('age:Q'),\n",
        "      alt.Y('income:Q'),\n",
        "      alt.Color('risk_flag:N'),\n",
        "      alt.OpacityValue(0.7)\n",
        "  ).properties(\n",
        "      width = 500,\n",
        "      height = 500\n",
        "  ).add_selection(selector).transform_filter(selector)"
      ]
    },
    {
      "cell_type": "markdown",
      "metadata": {
        "id": "7GLoYYjASv4R"
      },
      "source": [
        "By increasing the age range from 40 to 60, it can denote the lack of interest in their financial obligations regardless of the years in the company and also stagnation at certain ages in the salary increase regardless of the years working in the company, but despite that the income tends to be very high.\n"
      ]
    },
    {
      "cell_type": "code",
      "execution_count": null,
      "metadata": {
        "colab": {
          "base_uri": "https://localhost:8080/",
          "height": 594
        },
        "id": "YoLPatYGkr-7",
        "outputId": "9289d6f6-024d-4512-d082-344adc636e22"
      },
      "outputs": [],
      "source": [
        "#Correlation between variables\n",
        "\n",
        "alt.Chart(df_age_High)\\\n",
        "  .mark_bar().encode(\n",
        "      alt.X('age:Q'),\n",
        "      alt.Y('income:Q'),\n",
        "      alt.Color('risk_flag:N'),\n",
        "      alt.OpacityValue(0.7)\n",
        "  ).properties(\n",
        "      width = 500,\n",
        "      height = 500\n",
        "  ).add_selection(selector).transform_filter(selector)"
      ]
    },
    {
      "cell_type": "markdown",
      "metadata": {
        "id": "GIbHfjh9TizJ"
      },
      "source": [
        "In addition to this, the last age range can be denoted, which is from 60 to 80, which leaves a surprising change which in the course of the company maintains the same balance, but the difference is in the risk of non-compliance with the obligations in where we see a decrease, letting the hypothesis relapse that at early and high ages the risk is not as high as in the middle ages where a greater interest is denoted, in addition to this it is denoted that the age variable does not have a great relationship with the salary since which was maintained in a constant attitude of increase and reduction but in small traits.\n"
      ]
    },
    {
      "cell_type": "markdown",
      "metadata": {
        "id": "L0IGysUk-wdi"
      },
      "source": [
        "\n",
        "\n",
        "---\n",
        "\n"
      ]
    },
    {
      "cell_type": "markdown",
      "metadata": {
        "id": "7iyE74s5gnVU"
      },
      "source": [
        "# **The risk of breaching the obligation with respect to having a car or not having one or owning or renting a house was evaluated**\n",
        "\n"
      ]
    },
    {
      "cell_type": "code",
      "execution_count": null,
      "metadata": {
        "colab": {
          "background_save": true,
          "base_uri": "https://localhost:8080/",
          "height": 890
        },
        "id": "zkiytlUx_L8j",
        "outputId": "816ea87c-76d9-42f1-a734-6c622643faf1"
      },
      "outputs": [],
      "source": [
        "#Altair has a reserved data usage to display so the highest will be taken\n",
        "#and the least amount of data to see if the affected data was split in two\n",
        "#the lowest salaries and the highest\n",
        "\n",
        "df_age_low = df_Count.loc[df_Count['income'] <= 3000000] ## ---> Minimum salary  \n",
        "df_age_med = df_Count.loc[df_Count['income'] >= 3000000] ## ---> intermediate salary\n",
        "df_age_med = df_age_med.loc[df_age_med['income'] <= 7000000] ## ---> intermediate salary\n",
        "df_age_High = df_Count.loc[df_Count['income'] >= 7000000] ## ---> High salary  \n",
        "\n",
        "\n",
        "#Correlation between the variables risk of breaching obligations and number of times this problem occurs\n",
        "# regarding having a house or a car\n",
        "\n",
        "slid = alt.binding_range(min = 10, max= 14 , step=1,name='current_house_years')\n",
        "select = alt.selection_single(name=\"current_house_years\", fields=['current_house_years'],\n",
        "                                bind=slid, init={'current_house_years': 10})\n",
        "alt.Chart(df_age_low)\\\n",
        "  .mark_point(filled=True).encode(\n",
        "      alt.X('count():Q'),\n",
        "      alt.Y('risk_flag:N'),\n",
        "      alt.Size('car_ownership:N'),\n",
        "      alt.Color('house_ownership:N'),\n",
        "      alt.OpacityValue(0.7)\n",
        "  ).properties(\n",
        "      width = 800,\n",
        "      height = 800\n",
        "  ).add_selection(select).transform_filter(select)\n"
      ]
    },
    {
      "cell_type": "markdown",
      "metadata": {
        "id": "N9XeBhSZVHGx"
      },
      "source": [
        "As can be seen, we can see that there are fewer cases of non-compliance with the obligations in normal income of 3,000,000 in decrease, therefore, it can also be seen that the majority of cases of non-compliance are people who do not have their own car and also do not have a property in addition to this can be evidenced that the same case is represented to those who duly pay their obligations supply these same characteristics, while the people who have a car and a house are few who generate compliance as those who do not, in addition it can be evidenced that the older Whatever the house, the differences are minimal in the preliminary view, in addition to the fact that owners under 10 years of age cannot be seen in a property due to data collection.\n"
      ]
    },
    {
      "cell_type": "code",
      "execution_count": null,
      "metadata": {
        "colab": {
          "background_save": true,
          "base_uri": "https://localhost:8080/",
          "height": 890
        },
        "id": "-R4unC3OsKzl",
        "outputId": "fd4cccdb-48e0-41e1-88cc-bde703babf03"
      },
      "outputs": [],
      "source": [
        "alt.Chart(df_age_med)\\\n",
        "  .mark_point(filled=True).encode(\n",
        "      alt.X('count():Q'),\n",
        "      alt.Y('risk_flag:N'),\n",
        "      alt.Size('car_ownership:N'),\n",
        "      alt.Color('house_ownership:N'),\n",
        "      alt.OpacityValue(0.7)\n",
        "  ).properties(\n",
        "      width = 800,\n",
        "      height = 800\n",
        "  ).add_selection(select).transform_filter(select)"
      ]
    },
    {
      "cell_type": "markdown",
      "metadata": {
        "id": "lMZxKSLrXVMM"
      },
      "source": [
        "Contrary to the other sample, in people with a salary range between 3,000,000\\$ and 7,000,000\\$, an increase can be seen in people who do not run the risk of obligations through the time they are in the property, which is good since that these people increased and contrary to increasing the people with risk of non-compliance, they decreased giving a good future of the application.\n"
      ]
    },
    {
      "cell_type": "code",
      "execution_count": null,
      "metadata": {
        "colab": {
          "background_save": true,
          "base_uri": "https://localhost:8080/",
          "height": 890
        },
        "id": "Y_7uPxbksWqd",
        "outputId": "736c689a-94de-4ff0-9ced-bbd0fdbc2cc9"
      },
      "outputs": [],
      "source": [
        "alt.Chart(df_age_High)\\\n",
        "  .mark_point(filled=True).encode(\n",
        "      alt.X('count():Q'),\n",
        "      alt.Y('risk_flag:N'),\n",
        "      alt.Size('car_ownership:N'),\n",
        "      alt.Color('house_ownership:N'),\n",
        "      alt.OpacityValue(0.7)\n",
        "  ).properties(\n",
        "      width = 800,\n",
        "      height = 800\n",
        "  ).add_selection(select).transform_filter(select)"
      ]
    },
    {
      "cell_type": "markdown",
      "metadata": {
        "id": "3ulpeWEpil41"
      },
      "source": [
        "As an end in salaries of 7,000,000\\$ onwards, it can be seen that it is similar to people with low incomes, which is interesting to say that there is a similar number of people with low amounts of income and high amounts of income, in addition to this it can be said that there is a good chance that people possibly decrease over time, otherwise having a car or not having one is not a variable that affects too much in the case of the risk of not fulfilling obligations since both people who do not have a car nor a house of their own are people who lead the variable risk_flag.\n"
      ]
    },
    {
      "cell_type": "code",
      "execution_count": null,
      "metadata": {
        "colab": {
          "background_save": true,
          "base_uri": "https://localhost:8080/"
        },
        "id": "O7r2O04OAlWZ",
        "outputId": "8b11a52a-fc38-43e1-cc85-8395235ba371"
      },
      "outputs": [
        {
          "name": "stdout",
          "output_type": "stream",
          "text": [
            "    experience     Metric         Value\n",
            "16          16     income  4.894384e+06\n",
            "37          16  risk_flag  1.321659e-01\n",
            "17          17     income  5.150731e+06\n",
            "38          17  risk_flag  1.158190e-01\n",
            "18          18     income  4.965754e+06\n",
            "39          18  risk_flag  8.166019e-02\n",
            "19          19     income  5.056668e+06\n",
            "40          19  risk_flag  1.062098e-01\n",
            "20          20     income  4.868874e+06\n",
            "41          20  risk_flag  1.131278e-01\n"
          ]
        }
      ],
      "source": [
        "#Allows to evaluate in the perspective of the experience in all of the income evaluating if it increased or decreased\n",
        "\n",
        "df_count_df = df_Count.groupby('experience')\\\n",
        ".agg({'income':'mean','risk_flag':'mean'})\\\n",
        ".reset_index()\\\n",
        ".melt(id_vars = ['experience'],var_name = 'Metric',value_name = 'Value')\\\n",
        ".sort_values(by = ['experience','Metric'])\n",
        "\n",
        "print(df_count_df.tail(10))"
      ]
    },
    {
      "cell_type": "code",
      "execution_count": null,
      "metadata": {
        "colab": {
          "background_save": true,
          "base_uri": "https://localhost:8080/",
          "height": 368
        },
        "id": "PuAs_CfaGMs1",
        "outputId": "dab6f1b9-c3f2-4def-d20d-215a48f23f78"
      },
      "outputs": [
        {
          "data": {
            "text/html": [
              "\n",
              "<div id=\"altair-viz-37394b0ff9a5455d94a54e53bbf2448c\"></div>\n",
              "<script type=\"text/javascript\">\n",
              "  var VEGA_DEBUG = (typeof VEGA_DEBUG == \"undefined\") ? {} : VEGA_DEBUG;\n",
              "  (function(spec, embedOpt){\n",
              "    let outputDiv = document.currentScript.previousElementSibling;\n",
              "    if (outputDiv.id !== \"altair-viz-37394b0ff9a5455d94a54e53bbf2448c\") {\n",
              "      outputDiv = document.getElementById(\"altair-viz-37394b0ff9a5455d94a54e53bbf2448c\");\n",
              "    }\n",
              "    const paths = {\n",
              "      \"vega\": \"https://cdn.jsdelivr.net/npm//vega@5?noext\",\n",
              "      \"vega-lib\": \"https://cdn.jsdelivr.net/npm//vega-lib?noext\",\n",
              "      \"vega-lite\": \"https://cdn.jsdelivr.net/npm//vega-lite@4.17.0?noext\",\n",
              "      \"vega-embed\": \"https://cdn.jsdelivr.net/npm//vega-embed@6?noext\",\n",
              "    };\n",
              "\n",
              "    function maybeLoadScript(lib, version) {\n",
              "      var key = `${lib.replace(\"-\", \"\")}_version`;\n",
              "      return (VEGA_DEBUG[key] == version) ?\n",
              "        Promise.resolve(paths[lib]) :\n",
              "        new Promise(function(resolve, reject) {\n",
              "          var s = document.createElement('script');\n",
              "          document.getElementsByTagName(\"head\")[0].appendChild(s);\n",
              "          s.async = true;\n",
              "          s.onload = () => {\n",
              "            VEGA_DEBUG[key] = version;\n",
              "            return resolve(paths[lib]);\n",
              "          };\n",
              "          s.onerror = () => reject(`Error loading script: ${paths[lib]}`);\n",
              "          s.src = paths[lib];\n",
              "        });\n",
              "    }\n",
              "\n",
              "    function showError(err) {\n",
              "      outputDiv.innerHTML = `<div class=\"error\" style=\"color:red;\">${err}</div>`;\n",
              "      throw err;\n",
              "    }\n",
              "\n",
              "    function displayChart(vegaEmbed) {\n",
              "      vegaEmbed(outputDiv, spec, embedOpt)\n",
              "        .catch(err => showError(`Javascript Error: ${err.message}<br>This usually means there's a typo in your chart specification. See the javascript console for the full traceback.`));\n",
              "    }\n",
              "\n",
              "    if(typeof define === \"function\" && define.amd) {\n",
              "      requirejs.config({paths});\n",
              "      require([\"vega-embed\"], displayChart, err => showError(`Error loading script: ${err.message}`));\n",
              "    } else {\n",
              "      maybeLoadScript(\"vega\", \"5\")\n",
              "        .then(() => maybeLoadScript(\"vega-lite\", \"4.17.0\"))\n",
              "        .then(() => maybeLoadScript(\"vega-embed\", \"6\"))\n",
              "        .catch(showError)\n",
              "        .then(() => displayChart(vegaEmbed));\n",
              "    }\n",
              "  })({\"config\": {\"view\": {\"continuousWidth\": 400, \"continuousHeight\": 300}}, \"data\": {\"name\": \"data-dd663779249aaaa8ef3cff5d199e3889\"}, \"mark\": \"line\", \"encoding\": {\"color\": {\"field\": \"Metric\", \"type\": \"nominal\"}, \"x\": {\"field\": \"experience\", \"type\": \"quantitative\"}, \"y\": {\"field\": \"Value\", \"type\": \"quantitative\"}}, \"height\": 300, \"width\": 1000, \"$schema\": \"https://vega.github.io/schema/vega-lite/v4.17.0.json\", \"datasets\": {\"data-dd663779249aaaa8ef3cff5d199e3889\": [{\"experience\": 0, \"Metric\": \"income\", \"Value\": 5005592.738657974}, {\"experience\": 0, \"Metric\": \"risk_flag\", \"Value\": 0.1432581725980259}, {\"experience\": 1, \"Metric\": \"income\", \"Value\": 4849856.5339956805}, {\"experience\": 1, \"Metric\": \"risk_flag\", \"Value\": 0.15568034557235422}, {\"experience\": 2, \"Metric\": \"income\", \"Value\": 5070526.5814016415}, {\"experience\": 2, \"Metric\": \"risk_flag\", \"Value\": 0.170469919725805}, {\"experience\": 3, \"Metric\": \"income\", \"Value\": 5027426.537078465}, {\"experience\": 3, \"Metric\": \"risk_flag\", \"Value\": 0.13141105311127682}, {\"experience\": 4, \"Metric\": \"income\", \"Value\": 5039215.649275853}, {\"experience\": 4, \"Metric\": \"risk_flag\", \"Value\": 0.12272380791056153}, {\"experience\": 5, \"Metric\": \"income\", \"Value\": 4928933.8271039305}, {\"experience\": 5, \"Metric\": \"risk_flag\", \"Value\": 0.12579374648340166}, {\"experience\": 6, \"Metric\": \"income\", \"Value\": 5000770.84503724}, {\"experience\": 6, \"Metric\": \"risk_flag\", \"Value\": 0.11833105335157319}, {\"experience\": 7, \"Metric\": \"income\", \"Value\": 4794962.153757122}, {\"experience\": 7, \"Metric\": \"risk_flag\", \"Value\": 0.12491096866096867}, {\"experience\": 8, \"Metric\": \"income\", \"Value\": 4810272.572422908}, {\"experience\": 8, \"Metric\": \"risk_flag\", \"Value\": 0.1175330396475771}, {\"experience\": 9, \"Metric\": \"income\", \"Value\": 5142932.779839208}, {\"experience\": 9, \"Metric\": \"risk_flag\", \"Value\": 0.11278602350030921}, {\"experience\": 10, \"Metric\": \"income\", \"Value\": 4868093.022554587}, {\"experience\": 10, \"Metric\": \"risk_flag\", \"Value\": 0.10517475805806606}, {\"experience\": 11, \"Metric\": \"income\", \"Value\": 4856583.097737794}, {\"experience\": 11, \"Metric\": \"risk_flag\", \"Value\": 0.13835269455847674}, {\"experience\": 12, \"Metric\": \"income\", \"Value\": 5282885.594375}, {\"experience\": 12, \"Metric\": \"risk_flag\", \"Value\": 0.1090625}, {\"experience\": 13, \"Metric\": \"income\", \"Value\": 5176108.5166054815}, {\"experience\": 13, \"Metric\": \"risk_flag\", \"Value\": 0.12217194570135746}, {\"experience\": 14, \"Metric\": \"income\", \"Value\": 5004081.731506185}, {\"experience\": 14, \"Metric\": \"risk_flag\", \"Value\": 0.09798690274072278}, {\"experience\": 15, \"Metric\": \"income\", \"Value\": 5090522.679729843}, {\"experience\": 15, \"Metric\": \"risk_flag\", \"Value\": 0.15075460685399816}, {\"experience\": 16, \"Metric\": \"income\", \"Value\": 4894384.185527838}, {\"experience\": 16, \"Metric\": \"risk_flag\", \"Value\": 0.1321658681645465}, {\"experience\": 17, \"Metric\": \"income\", \"Value\": 5150731.268238397}, {\"experience\": 17, \"Metric\": \"risk_flag\", \"Value\": 0.11581897617673728}, {\"experience\": 18, \"Metric\": \"income\", \"Value\": 4965753.56312991}, {\"experience\": 18, \"Metric\": \"risk_flag\", \"Value\": 0.08166018569954765}, {\"experience\": 19, \"Metric\": \"income\", \"Value\": 5056667.603808904}, {\"experience\": 19, \"Metric\": \"risk_flag\", \"Value\": 0.10620981525189224}, {\"experience\": 20, \"Metric\": \"income\", \"Value\": 4868873.774096916}, {\"experience\": 20, \"Metric\": \"risk_flag\", \"Value\": 0.11312775330396475}]}}, {\"mode\": \"vega-lite\"});\n",
              "</script>"
            ],
            "text/plain": [
              "alt.Chart(...)"
            ]
          },
          "execution_count": null,
          "metadata": {},
          "output_type": "execute_result"
        }
      ],
      "source": [
        "#This variable is evaluated by means of a linear graph that evaluates by years of experience\n",
        "alt.Chart(df_count_df).mark_line().encode(\n",
        "    alt.X('experience:Q'),\n",
        "    alt.Y('Value:Q'),\n",
        "    alt.Color('Metric:N')\n",
        ").properties(\n",
        "    width = 1000,\n",
        "    height = 300\n",
        ")"
      ]
    },
    {
      "cell_type": "markdown",
      "metadata": {
        "id": "_Z1QfEjRdNLB"
      },
      "source": [
        "You can see a rare collection of data establishing possible errors in the data collection when establishing this graph since it looks as if it is stuck at 4000000\\$ therefore it could be a representation that regardless of experience the variations are not very large if not in the presence of other variables.\n"
      ]
    },
    {
      "cell_type": "markdown",
      "metadata": {
        "id": "t0Fk48RbmPfr"
      },
      "source": [
        "**DATA ERRORS**\n",
        "\n",
        "---\n",
        "\n"
      ]
    },
    {
      "cell_type": "markdown",
      "metadata": {
        "id": "8Qu0tZjlmXTm"
      },
      "source": [
        "* It was found that the size of the document was so large that it runs locally, it was a way of suffocating the computer and it did not fully render.\n",
        "\n",
        "* Incomplete columns were found where I had to apply row deletion functions so that those rows could be executed.\n",
        "\n",
        "* Different accents were identified that could not be corrected because the functions could not send to a flat format and damaged the mouth of the format.\n",
        "\n",
        "* The use of lower and upper case letters was found to be incongruous with the tables, which used an APCASE format so that they would all remain capital letters.\n",
        "\n",
        "* Cities contain [] poorly designed arrays whose provenance is unknown\n",
        "\n",
        "* The tool used did not allow me to use the complete data list so I divided it into sections to get to its operation\n",
        "\n"
      ]
    }
  ],
  "metadata": {
    "colab": {
      "collapsed_sections": [],
      "name": "Taller 2.ipynb",
      "provenance": [],
      "include_colab_link": true
    },
    "kernelspec": {
      "display_name": "Python 3",
      "name": "python3"
    }
  },
  "nbformat": 4,
  "nbformat_minor": 0
}